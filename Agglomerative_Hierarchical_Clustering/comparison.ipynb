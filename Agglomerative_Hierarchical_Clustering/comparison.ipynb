{
 "cells": [
  {
   "cell_type": "markdown",
   "id": "f1648115",
   "metadata": {},
   "source": [
    " ## Comparison Notebook\n",
    " This notebook is intended to compare implementation from scratch with common libraries."
   ]
  },
  {
   "cell_type": "code",
   "execution_count": 8,
   "id": "619080a0",
   "metadata": {},
   "source": [
    "import numpy as np\n",
    "import pandas as pd\n",
    "import matplotlib.pyplot as plt\n",
    "from sklearn.cluster import AgglomerativeClustering"
   ],
   "outputs": []
  },
  {
   "cell_type": "markdown",
   "id": "b77495dd",
   "metadata": {},
   "source": [
    "- Using Scikit-learn:"
   ]
  },
  {
   "cell_type": "code",
   "execution_count": 9,
   "id": "7e04b552",
   "metadata": {},
   "source": [
    "data = pd.read_csv(\"data.csv\")\n",
    "X = data[['x', 'y']].values\n",
    "clustering = AgglomerativeClustering(n_clusters=4, linkage = 'single')\n",
    "clustering.fit(X)\n",
    "labels = clustering.labels_"
   ],
   "outputs": []
  },
  {
   "cell_type": "code",
   "execution_count": 29,
   "id": "761f5a06",
   "metadata": {},
   "source": [
    "plt.figure(figsize=(8, 6))\n",
    "plt.scatter(X[:, 0], X[:, 1], c=labels, cmap='viridis', s=50, alpha=0.5)\n",
    "plt.title('Hierarchical Clustering with Single Linkage Using scikit-learn')\n",
    "plt.grid(True)\n",
    "plt.show()"
   ],
   "outputs": []
  },
  {
   "cell_type": "code",
   "execution_count": 30,
   "id": "5ee94a41",
   "metadata": {},
   "source": [
    "data = pd.read_csv(\"data.csv\")\n",
    "X = data[['x', 'y']].values\n",
    "clustering = AgglomerativeClustering(n_clusters=4, linkage = 'ward')\n",
    "clustering.fit(X)\n",
    "labels = clustering.labels_"
   ],
   "outputs": []
  },
  {
   "cell_type": "code",
   "execution_count": 31,
   "id": "f6794110",
   "metadata": {},
   "source": [
    "plt.figure(figsize=(8, 6))\n",
    "plt.scatter(X[:, 0], X[:, 1], c=labels, cmap='viridis', s=50, alpha=0.5)\n",
    "plt.title('Hierarchical Clustering with Wards Distance Using scikit-learn')\n",
    "plt.grid(True)\n",
    "plt.show()"
   ],
   "outputs": []
  },
  {
   "cell_type": "markdown",
   "id": "cdd7ad20",
   "metadata": {},
   "source": [
    "Implementation from Scratch:"
   ]
  },
  {
   "cell_type": "code",
   "execution_count": 32,
   "id": "ba62b0f7",
   "metadata": {},
   "source": [
    "from_scratch = pd.read_csv(\"output_single_linkage.csv\")\n",
    "X_scratch = from_scratch[['cluster', 'x', 'y']].values"
   ],
   "outputs": []
  },
  {
   "cell_type": "code",
   "execution_count": 33,
   "id": "60b8948a",
   "metadata": {},
   "source": [
    "plt.figure(figsize=(8, 6))\n",
    "plt.scatter(X_scratch[:, 1], X_scratch[:, 2], c=X_scratch[:, 0], cmap='viridis', s=50, alpha=0.5)\n",
    "plt.title('Hierarchical Clustering with Single Linkage (Implementation from Scratch)')\n",
    "plt.grid(True)\n",
    "plt.show()"
   ],
   "outputs": []
  },
  {
   "cell_type": "code",
   "execution_count": 34,
   "id": "c654f850",
   "metadata": {},
   "source": [
    "# from_scratch = pd.read_csv(\"output_wards_distance.csv\")\n",
    "# X_scratch = from_scratch[['cluster', 'x', 'y']].values"
   ],
   "outputs": []
  },
  {
   "cell_type": "code",
   "execution_count": 35,
   "id": "30195313",
   "metadata": {},
   "source": [
    "# plt.figure(figsize=(8, 6))\n",
    "# plt.scatter(X_scratch[:, 1], X_scratch[:, 2], c=X_scratch[:, 0], cmap='viridis', s=50, alpha=0.5)\n",
    "# plt.title('Hierarchical Clustering with Wards Distance (Implementation from Scratch)')\n",
    "# plt.grid(True)\n",
    "# plt.show()"
   ],
   "outputs": []
  },
  {
   "cell_type": "code",
   "execution_count": null,
   "id": "fa143850",
   "metadata": {},
   "source": [],
   "outputs": []
  }
 ],
 "metadata": {
  "kernelspec": {
   "display_name": "Python 3 (ipykernel)",
   "language": "python",
   "name": "python3"
  },
  "language_info": {
   "codemirror_mode": {
    "name": "ipython",
    "version": 3
   },
   "file_extension": ".py",
   "mimetype": "text/x-python",
   "name": "python",
   "nbconvert_exporter": "python",
   "pygments_lexer": "ipython3",
   "version": "3.11.4"
  }
 },
 "nbformat": 4,
 "nbformat_minor": 5
}
